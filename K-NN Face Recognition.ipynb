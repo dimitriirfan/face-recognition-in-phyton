{
 "cells": [
  {
   "cell_type": "code",
   "execution_count": 1,
   "metadata": {},
   "outputs": [
    {
     "ename": "ModuleNotFoundError",
     "evalue": "No module named 'cv2'",
     "output_type": "error",
     "traceback": [
      "\u001b[0;31m---------------------------------------------------------------------------\u001b[0m",
      "\u001b[0;31mModuleNotFoundError\u001b[0m                       Traceback (most recent call last)",
      "\u001b[0;32m<ipython-input-1-ab08bc5e5cdb>\u001b[0m in \u001b[0;36m<module>\u001b[0;34m\u001b[0m\n\u001b[1;32m      1\u001b[0m \u001b[0;32mimport\u001b[0m \u001b[0mnumpy\u001b[0m \u001b[0;32mas\u001b[0m \u001b[0mnp\u001b[0m\u001b[0;34m\u001b[0m\u001b[0;34m\u001b[0m\u001b[0m\n\u001b[0;32m----> 2\u001b[0;31m \u001b[0;32mimport\u001b[0m \u001b[0mcv2\u001b[0m\u001b[0;34m\u001b[0m\u001b[0;34m\u001b[0m\u001b[0m\n\u001b[0m\u001b[1;32m      3\u001b[0m \u001b[0;34m\u001b[0m\u001b[0m\n\u001b[1;32m      4\u001b[0m \u001b[0mcam\u001b[0m \u001b[0;34m=\u001b[0m \u001b[0mcv2\u001b[0m\u001b[0;34m.\u001b[0m\u001b[0mVideoCapture\u001b[0m\u001b[0;34m(\u001b[0m\u001b[0;36m0\u001b[0m\u001b[0;34m)\u001b[0m \u001b[0;31m#setting camera\u001b[0m\u001b[0;34m\u001b[0m\u001b[0;34m\u001b[0m\u001b[0m\n\u001b[1;32m      5\u001b[0m \u001b[0mfacec\u001b[0m \u001b[0;34m=\u001b[0m \u001b[0mcv2\u001b[0m\u001b[0;34m.\u001b[0m\u001b[0mCascadeClassifier\u001b[0m\u001b[0;34m(\u001b[0m\u001b[0;34m'haarcascade_frontalface_alt.xml'\u001b[0m\u001b[0;34m)\u001b[0m\u001b[0;34m\u001b[0m\u001b[0;34m\u001b[0m\u001b[0m\n",
      "\u001b[0;31mModuleNotFoundError\u001b[0m: No module named 'cv2'"
     ]
    }
   ],
   "source": [
    "import numpy as np \n",
    "import cv2\n",
    "\n",
    "cam = cv2.VideoCapture(0) #setting camera\n",
    "facec = cv2.CascadeClassifier('haarcascade_frontalface_alt.xml')\n",
    "font = cv2.FONT_HERSHEY_SIMPLEX #setup font"
   ]
  },
  {
   "cell_type": "code",
   "execution_count": 17,
   "metadata": {},
   "outputs": [],
   "source": [
    "#Load data in train (X and y)\n",
    "f_01 = np.load('face_Farrel.npy') #file 1\n",
    "f_02 = np.load('face_try.npy') #file 2\n",
    "data = np.concatenate((f_01, f_02)) #gabungkan dua array menjadi satu\n",
    "labels = np.zeros((data.shape[0])) #buat array sebanyak data[0] lalu isi semuanya dengan angka 0\n",
    "labels[20:] = 1.0 # isi array ke 20 sampai akhir dengan angka 1.0\n",
    "\n",
    "names = {\n",
    "    0: 'nama 1',\n",
    "    1: 'nama 2', #coba ambil uang dua ribu, harusnya buma yang ada di uang 2000 terdeteksi sebagai nama 2\n",
    "}"
   ]
  },
  {
   "cell_type": "code",
   "execution_count": 18,
   "metadata": {},
   "outputs": [
    {
     "data": {
      "text/plain": [
       "KNeighborsClassifier(algorithm='auto', leaf_size=30, metric='minkowski',\n",
       "           metric_params=None, n_jobs=None, n_neighbors=3, p=2,\n",
       "           weights='uniform')"
      ]
     },
     "execution_count": 18,
     "metadata": {},
     "output_type": "execute_result"
    }
   ],
   "source": [
    "from sklearn.neighbors import KNeighborsClassifier\n",
    "neigh = KNeighborsClassifier(n_neighbors=3) # knn dengan k = 3\n",
    "neigh.fit(data,labels) #petakan data (seperti di graf)"
   ]
  },
  {
   "cell_type": "code",
   "execution_count": 19,
   "metadata": {},
   "outputs": [],
   "source": [
    "while True:\n",
    "    ret, fr = cam.read() #baca data dari webcam\n",
    "    if ret == True:\n",
    "        gray = cv2.cvtColor(fr, cv2.COLOR_BGR2GRAY) # ubah jadi hitam putih\n",
    "        faces = facec.detectMultiScale(gray, 1.3, 5) # deteksi bagian wajah dan filter menjadi hitam putih\n",
    "        for (x, y, w, h) in faces:\n",
    "            #Extract detected face\n",
    "            face_component = fr[y:y+h, x:x+w, :]\n",
    "            #Resize to a fixed shape\n",
    "            face_component = cv2.resize(face_component, (50, 50)).flatten()\n",
    "            text = names[int(neigh.predict([face_component]))] # prediksi muka dengan knn\n",
    "            cv2.putText(fr, text, (x, y), font, 1, (255, 255, 0), 2)  #letakkan tulisan di frame\n",
    "            cv2.rectangle(fr, (x, y), (x+w, y+h), (0, 0, 255), 2) #letakkan persegi di frame\n",
    "        cv2.imshow('fr', fr) #tampilkan frame\n",
    "        if cv2.waitKey(1) & 0xFF == ord('q'): # press q to close cam\n",
    "            break\n",
    "    else:\n",
    "        print (\"error\")\n",
    "        break\n",
    "cam.release() #tutup camera\n",
    "cv2.destroyAllWindows() #tutup jendela "
   ]
  },
  {
   "cell_type": "code",
   "execution_count": null,
   "metadata": {},
   "outputs": [],
   "source": []
  }
 ],
 "metadata": {
  "kernelspec": {
   "display_name": "Python 3",
   "language": "python",
   "name": "python3"
  },
  "language_info": {
   "codemirror_mode": {
    "name": "ipython",
    "version": 3
   },
   "file_extension": ".py",
   "mimetype": "text/x-python",
   "name": "python",
   "nbconvert_exporter": "python",
   "pygments_lexer": "ipython3",
   "version": "3.7.4"
  }
 },
 "nbformat": 4,
 "nbformat_minor": 2
}
