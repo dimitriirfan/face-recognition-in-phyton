{
 "cells": [
  {
   "cell_type": "code",
   "execution_count": 1,
   "metadata": {},
   "outputs": [],
   "source": [
    "import numpy as np\n",
    "import cv2\n",
    "\n",
    "from sklearn.neighbors import KNeighborsClassifier"
   ]
  },
  {
   "cell_type": "code",
   "execution_count": 2,
   "metadata": {},
   "outputs": [
    {
     "name": "stdout",
     "output_type": "stream",
     "text": [
      "Erorr\n"
     ]
    },
    {
     "ename": "AttributeError",
     "evalue": "module 'cv2' has no attribute 'destroyALLWindows'",
     "output_type": "error",
     "traceback": [
      "\u001b[0;31m---------------------------------------------------------------------------\u001b[0m",
      "\u001b[0;31mAttributeError\u001b[0m                            Traceback (most recent call last)",
      "\u001b[0;32m<ipython-input-2-6962a702f6c6>\u001b[0m in \u001b[0;36m<module>\u001b[0;34m\u001b[0m\n\u001b[1;32m     39\u001b[0m         \u001b[0;32mbreak\u001b[0m\u001b[0;34m\u001b[0m\u001b[0;34m\u001b[0m\u001b[0m\n\u001b[1;32m     40\u001b[0m \u001b[0;34m\u001b[0m\u001b[0m\n\u001b[0;32m---> 41\u001b[0;31m \u001b[0mcv2\u001b[0m\u001b[0;34m.\u001b[0m\u001b[0mdestroyALLWindows\u001b[0m\u001b[0;34m(\u001b[0m\u001b[0;34m)\u001b[0m\u001b[0;34m\u001b[0m\u001b[0;34m\u001b[0m\u001b[0m\n\u001b[0m",
      "\u001b[0;31mAttributeError\u001b[0m: module 'cv2' has no attribute 'destroyALLWindows'"
     ]
    }
   ],
   "source": [
    "cam = cv2.VideoCapture(0)\n",
    "facec = cv2.CascadeClassifier('haarcascade_frontalface_alt.xml')\n",
    "font = cv2.FONT_HERSHEY_SIMPLEX\n",
    "\n",
    "##LOAD DATA\n",
    "file01 = np.load('face_Farrel.npy').reshape((20, -1))\n",
    "file02 = np.load('face_try.npy').reshape((20, -1))\n",
    "\n",
    "data = np.concatenate((file01, file02))\n",
    "#data = np.concatenate((file01, file02))\n",
    "\n",
    "labels = np.zeros((data.shape[0]))\n",
    "labels[20:40] = 1.0\n",
    "\n",
    "names = {\n",
    "    0 : 'Farrel',\n",
    "    1 : 'Dimit'\n",
    "}\n",
    "\n",
    "KNN = KNeighborsClassifier(n_neighbors=5)\n",
    "\n",
    "while True :\n",
    "    ret, frame = cam.read()\n",
    "    if ret :\n",
    "        gray = cv2. cvtColor(frame, cv2.COLOR_BGR2GRAY)\n",
    "        faces = facec.detectMultiScale(gray, 1.3, 5)\n",
    "        for (x, y, w, h) in faces :\n",
    "            face_component = frame[y:y+h, x:x+w, :]\n",
    "            face_component = cv2.resize(face_component, (50, 50)).flatten()\n",
    "            KNN.fit(data, labels)\n",
    "            text = names[int(KNN.predict([face_component]))]\n",
    "            cv2.putText(frame, text, (x,y), font, 1, (255, 255, 0), 2)\n",
    "            cv2.rectangle(frame, (x,y), (x+w, y+h), (0,0,255),2)\n",
    "        cv2.imshow('frame', frame)\n",
    "        if (cv2.waitKey(1) == 27) :\n",
    "            break\n",
    "    else :\n",
    "        print(\"Erorr\")\n",
    "        break\n",
    "        \n",
    "cv2.destroyALLWindows()"
   ]
  },
  {
   "cell_type": "code",
   "execution_count": null,
   "metadata": {},
   "outputs": [],
   "source": []
  },
  {
   "cell_type": "code",
   "execution_count": null,
   "metadata": {},
   "outputs": [],
   "source": []
  }
 ],
 "metadata": {
  "kernelspec": {
   "display_name": "Python 3",
   "language": "python",
   "name": "python3"
  },
  "language_info": {
   "codemirror_mode": {
    "name": "ipython",
    "version": 3
   },
   "file_extension": ".py",
   "mimetype": "text/x-python",
   "name": "python",
   "nbconvert_exporter": "python",
   "pygments_lexer": "ipython3",
   "version": "3.7.4"
  }
 },
 "nbformat": 4,
 "nbformat_minor": 2
}
